{
 "cells": [
  {
   "cell_type": "code",
   "execution_count": null,
   "id": "ee66e54b-9480-4fb1-9bb1-e33143771c18",
   "metadata": {},
   "outputs": [],
   "source": [
    "def multiply_list(items):\n",
    "    tot = 1\n",
    "    for x in items:\n",
    "        tot *= x\n",
    "    return tot\n",
    "flat_list=multiply_list([1,2,3,4{44,45,46,True],False,(34,56,78,89,34),{1,2,3,3,3,1},{1,34,\"key2\":[55,56,78,89],4:(45,22,61,34)},[56,\"datascience\"],[\"machinelearning\"]}"
   ]
  }
 ],
 "metadata": {
  "kernelspec": {
   "display_name": "Python 3 (ipykernel)",
   "language": "python",
   "name": "python3"
  },
  "language_info": {
   "codemirror_mode": {
    "name": "ipython",
    "version": 3
   },
   "file_extension": ".py",
   "mimetype": "text/x-python",
   "name": "python",
   "nbconvert_exporter": "python",
   "pygments_lexer": "ipython3",
   "version": "3.10.8"
  }
 },
 "nbformat": 4,
 "nbformat_minor": 5
}
